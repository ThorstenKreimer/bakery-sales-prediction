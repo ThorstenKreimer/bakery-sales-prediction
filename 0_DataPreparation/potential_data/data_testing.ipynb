{
 "cells": [
  {
   "cell_type": "code",
   "execution_count": 12,
   "metadata": {},
   "outputs": [
    {
     "name": "stdout",
     "output_type": "stream",
     "text": [
      "       Jahr     Monate  Ankuenfte  Uebernachtungen\n",
      "0    2011.0     Januar     188760           648143\n",
      "1    2011.0    Februar     228729           712546\n",
      "2    2011.0       März     314310          1024077\n",
      "3    2011.0      April     538050          2007010\n",
      "4    2011.0        Mai     589665          2156813\n",
      "..      ...        ...        ...              ...\n",
      "115  2020.0     August    1144363          5802579\n",
      "116  2020.0  September     913446          4183912\n",
      "117  2020.0    Oktober     736892          3419058\n",
      "118  2020.0   November      76148           461976\n",
      "119  2020.0   Dezember      44298           311727\n",
      "\n",
      "[120 rows x 4 columns]\n"
     ]
    },
    {
     "name": "stderr",
     "output_type": "stream",
     "text": [
      "/tmp/ipykernel_17162/705966376.py:6: FutureWarning: DataFrame.fillna with 'method' is deprecated and will raise in a future version. Use obj.ffill() or obj.bfill() instead.\n",
      "  data.fillna(method='ffill', inplace=True)\n"
     ]
    }
   ],
   "source": [
    "import pandas as pd\n",
    "\n",
    "data = pd.read_csv(\"tourismus_sh_monate.csv\", sep=\";\")\n",
    "\n",
    "# for NaN add previous value\n",
    "data.fillna(method='ffill', inplace=True)\n",
    "\n",
    "print(data)\n",
    "\n",
    "data.to_csv(\"tourismus_sh_monate_filled.csv\", sep=\";\", index=False)\n"
   ]
  }
 ],
 "metadata": {
  "kernelspec": {
   "display_name": "Python 3",
   "language": "python",
   "name": "python3"
  },
  "language_info": {
   "codemirror_mode": {
    "name": "ipython",
    "version": 3
   },
   "file_extension": ".py",
   "mimetype": "text/x-python",
   "name": "python",
   "nbconvert_exporter": "python",
   "pygments_lexer": "ipython3",
   "version": "3.12.1"
  }
 },
 "nbformat": 4,
 "nbformat_minor": 2
}
