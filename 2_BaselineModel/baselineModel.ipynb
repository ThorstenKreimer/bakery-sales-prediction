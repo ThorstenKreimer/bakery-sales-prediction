{
 "cells": [
  {
   "cell_type": "code",
   "execution_count": 5,
   "metadata": {},
   "outputs": [
    {
     "name": "stdout",
     "output_type": "stream",
     "text": [
      "                            OLS Regression Results                            \n",
      "==============================================================================\n",
      "Dep. Variable:                 Umsatz   R-squared:                       0.791\n",
      "Model:                            OLS   Adj. R-squared:                  0.790\n",
      "Method:                 Least Squares   F-statistic:                     1219.\n",
      "Date:                Wed, 04 Dec 2024   Prob (F-statistic):               0.00\n",
      "Time:                        23:42:25   Log-Likelihood:                -41924.\n",
      "No. Observations:                7445   AIC:                         8.390e+04\n",
      "Df Residuals:                    7421   BIC:                         8.406e+04\n",
      "Df Model:                          23                                         \n",
      "Covariance Type:            nonrobust                                         \n",
      "=====================================================================================================\n",
      "                                        coef    std err          t      P>|t|      [0.025      0.975]\n",
      "-----------------------------------------------------------------------------------------------------\n",
      "Intercept                            33.6908      3.376      9.979      0.000      27.073      40.309\n",
      "Season_Temp_Fall_high[T.True]         5.6540      5.273      1.072      0.284      -4.682      15.990\n",
      "Season_Temp_Fall_low[T.True]        -15.0134      3.513     -4.274      0.000     -21.900      -8.127\n",
      "Season_Temp_Spring_high[T.True]      -2.5579      4.572     -0.560      0.576     -11.520       6.404\n",
      "Season_Temp_Spring_middle[T.True]    -2.8356      2.782     -1.019      0.308      -8.289       2.618\n",
      "Season_Temp_Spring_low[T.True]      -13.3043      5.461     -2.436      0.015     -24.010      -2.599\n",
      "Season_Temp_Summer_high[T.True]      32.1407      5.171      6.215      0.000      22.003      42.278\n",
      "Season_Temp_Summer_low[T.True]       25.3652      3.590      7.065      0.000      18.327      32.404\n",
      "Season_Temp_Summer_middle[T.True]    34.0491      2.924     11.645      0.000      28.317      39.781\n",
      "Season_Temp_Winter_high[T.True]     -10.7902      3.260     -3.310      0.001     -17.181      -4.399\n",
      "Season_Temp_Winter_middle[T.True]    -7.6043      3.006     -2.530      0.011     -13.497      -1.712\n",
      "Season_Temp_Winter_low[T.True]      -19.9004      6.187     -3.216      0.001     -32.029      -7.772\n",
      "Warengruppe_1[T.True]                17.1068      2.553      6.701      0.000      12.103      22.111\n",
      "Warengruppe_2[T.True]               167.3367      4.102     40.791      0.000     159.295     175.378\n",
      "Warengruppe_3[T.True]                39.3476      2.642     14.895      0.000      34.169      44.526\n",
      "Warengruppe_6[T.True]                 5.8589      4.961      1.181      0.238      -3.866      15.584\n",
      "Warengruppe_5[T.True]                99.8341      3.186     31.339      0.000      93.589     106.079\n",
      "snow_weather                         -4.1694      4.538     -0.919      0.358     -13.065       4.726\n",
      "rain_weather                         -5.0897      1.752     -2.906      0.004      -8.523      -1.656\n",
      "Windgeschwindigkeit                   0.0362      0.198      0.183      0.855      -0.352       0.424\n",
      "KielerWoche                          13.7522      5.415      2.540      0.011       3.137      24.368\n",
      "Feiertag                             71.0485      6.735     10.550      0.000      57.847      84.250\n",
      "is_weekend                           29.2369      1.814     16.118      0.000      25.681      32.793\n",
      "Umsatz_one_week_ago                   0.4794      0.010     47.764      0.000       0.460       0.499\n",
      "==============================================================================\n",
      "Omnibus:                     9409.698   Durbin-Watson:                   1.285\n",
      "Prob(Omnibus):                  0.000   Jarque-Bera (JB):          8079257.792\n",
      "Skew:                           6.267   Prob(JB):                         0.00\n",
      "Kurtosis:                     163.896   Cond. No.                     2.63e+03\n",
      "==============================================================================\n",
      "\n",
      "Notes:\n",
      "[1] Standard Errors assume that the covariance matrix of the errors is correctly specified.\n",
      "[2] The condition number is large, 2.63e+03. This might indicate that there are\n",
      "strong multicollinearity or other numerical problems.\n"
     ]
    }
   ],
   "source": [
    "import pandas as pd\n",
    "import statsmodels.formula.api as smf\n",
    "\n",
    "train_df = pd.read_csv('train_df.csv', sep=',')\n",
    "\n",
    "model = smf.ols(formula='Umsatz ~ snow_weather + rain_weather + Windgeschwindigkeit + KielerWoche + Feiertag + is_weekend + Season_Temp_Fall_high + Season_Temp_Fall_low + Season_Temp_Spring_high + Season_Temp_Spring_middle + Season_Temp_Spring_low + Season_Temp_Summer_high + Season_Temp_Summer_low + Season_Temp_Summer_middle + Season_Temp_Winter_high + Season_Temp_Winter_middle + Season_Temp_Winter_low + Umsatz_one_week_ago + Warengruppe_1 + Warengruppe_2 + Warengruppe_3 + Warengruppe_6 + Warengruppe_5', data=train_df).fit()\n",
    "\n",
    "print(model.summary())"
   ]
  }
 ],
 "metadata": {
  "kernelspec": {
   "display_name": "Python 3",
   "language": "python",
   "name": "python3"
  },
  "language_info": {
   "codemirror_mode": {
    "name": "ipython",
    "version": 3
   },
   "file_extension": ".py",
   "mimetype": "text/x-python",
   "name": "python",
   "nbconvert_exporter": "python",
   "pygments_lexer": "ipython3",
   "version": "3.12.1"
  }
 },
 "nbformat": 4,
 "nbformat_minor": 2
}
