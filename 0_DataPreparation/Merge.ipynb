{
 "cells": [
  {
   "cell_type": "code",
   "execution_count": 10,
   "metadata": {},
   "outputs": [
    {
     "name": "stdout",
     "output_type": "stream",
     "text": [
      "       Warengruppe       Umsatz   Bewoelkung   Temperatur  \\\n",
      "count  9318.000000  9318.000000  9264.000000  9318.000000   \n",
      "mean      3.088002   206.782933     4.720747    12.028483   \n",
      "std       1.488889   144.586222     2.646273     7.232829   \n",
      "min       1.000000     7.051201     0.000000    -8.475000   \n",
      "25%       2.000000    96.864379     3.000000     6.237500   \n",
      "50%       3.000000   161.945865     6.000000    11.625000   \n",
      "75%       4.000000   280.692490     7.000000    17.962500   \n",
      "max       6.000000  1879.461831     8.000000    31.437500   \n",
      "\n",
      "       Windgeschwindigkeit   Wettercode  \n",
      "count          9318.000000  7009.000000  \n",
      "mean             10.974780    36.900128  \n",
      "std               4.131974    27.095884  \n",
      "min               3.000000     0.000000  \n",
      "25%               8.000000    10.000000  \n",
      "50%              10.000000    28.000000  \n",
      "75%              13.000000    61.000000  \n",
      "max              35.000000    95.000000  \n",
      "        Datum  Warengruppe      Umsatz  Bewoelkung  Temperatur  \\\n",
      "0  2013-07-01            1  148.828353         6.0     17.8375   \n",
      "1  2013-07-02            1  159.793757         3.0     17.3125   \n",
      "2  2013-07-03            1  111.885594         7.0     21.0750   \n",
      "3  2013-07-04            1  168.864941         7.0     18.8500   \n",
      "4  2013-07-05            1  171.280754         5.0     19.9750   \n",
      "\n",
      "   Windgeschwindigkeit  Wettercode  KielerWoche  \n",
      "0                   15        20.0          NaN  \n",
      "1                   10         NaN          NaN  \n",
      "2                    6        61.0          NaN  \n",
      "3                    7        20.0          NaN  \n",
      "4                   12         NaN          NaN  \n"
     ]
    }
   ],
   "source": [
    "import pandas as pd\n",
    "\n",
    "df_umsatz = pd.read_csv('./umsatzdaten_gekuerzt.csv')\n",
    "\n",
    "df_wetter = pd.read_csv('wetter.csv')\n",
    "\n",
    "merged_df = pd.merge(df_umsatz, df_wetter, on='Datum', how='inner')\n",
    "print(merged_df.describe())\n",
    "\n",
    "df_kiwo = pd.read_csv('kiwo.csv')\n",
    "merged_df_with_kiwo = pd.merge(merged_df, df_kiwo, on='Datum', how='left')\n",
    "\n",
    "print(merged_df_with_kiwo.head())\n"
   ]
  }
 ],
 "metadata": {
  "kernelspec": {
   "display_name": ".venv",
   "language": "python",
   "name": "python3"
  },
  "language_info": {
   "codemirror_mode": {
    "name": "ipython",
    "version": 3
   },
   "file_extension": ".py",
   "mimetype": "text/x-python",
   "name": "python",
   "nbconvert_exporter": "python",
   "pygments_lexer": "ipython3",
   "version": "3.12.7"
  }
 },
 "nbformat": 4,
 "nbformat_minor": 2
}
